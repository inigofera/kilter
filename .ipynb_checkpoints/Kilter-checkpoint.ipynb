{
 "cells": [
  {
   "cell_type": "code",
   "execution_count": 9,
   "id": "967a5355-41de-4bfd-b0b9-0af0bcdaec41",
   "metadata": {},
   "outputs": [
    {
     "name": "stdout",
     "output_type": "stream",
     "text": [
      "                               uuid  \\\n",
      "0  002047402B6941CEA5ED7BB09FBFE14D   \n",
      "1  002ED50792A94E5EB2127D59E167B2EE   \n",
      "2  004FB7A0C0754DA98634C5EE4D985D9A   \n",
      "3  004FB7A0C0754DA98634C5EE4D985D9A   \n",
      "4  00683d10a8e246b3a106531c8573f13c   \n",
      "\n",
      "                                              frames  angle  \\\n",
      "0  p1145r12p1146r12p1149r13p1186r13p1201r13p1256r...    NaN   \n",
      "1  p1123r12p1139r13p1155r12p1171r13p1187r13p1203r...    NaN   \n",
      "2  p1081r15p1090r13p1091r13p1094r12p1097r13p1098r...    NaN   \n",
      "3  p1081r15p1090r13p1091r13p1094r12p1097r13p1098r...    NaN   \n",
      "4  p1141r15p1142r12p1144r15p1179r12p1192r13p1246r...    NaN   \n",
      "\n",
      "   display_difficulty                                              holds  \n",
      "0                18.0  [{\"hold_id\": 1145, \"hold_color\": \"green\"}, {\"h...  \n",
      "1                25.0  [{\"hold_id\": 1123, \"hold_color\": \"green\"}, {\"h...  \n",
      "2                29.0  [{\"hold_id\": 1081, \"hold_color\": \"yellow\"}, {\"...  \n",
      "3                22.0  [{\"hold_id\": 1081, \"hold_color\": \"yellow\"}, {\"...  \n",
      "4                14.0  [{\"hold_id\": 1141, \"hold_color\": \"yellow\"}, {\"...  \n"
     ]
    }
   ],
   "source": [
    "import sqlite3\n",
    "import pandas as pd\n",
    "import re\n",
    "import json\n",
    "\n",
    "conn = sqlite3.connect(\"data.sqlite3\")\n",
    "\n",
    "df_climbs = pd.read_sql_query(\"SELECT uuid, frames, angle FROM climbs\", conn)\n",
    "df_climb_stats = pd.read_sql_query(\"SELECT climb_uuid, display_difficulty FROM climb_stats\", conn)\n",
    "\n",
    "conn.close()\n",
    "\n",
    "# Merge tables\n",
    "df = pd.merge(df_climbs, df_climb_stats, left_on=\"uuid\", right_on=\"climb_uuid\", how=\"inner\")\n",
    "df.drop(columns=[\"climb_uuid\"], inplace=True)\n",
    "\n",
    "# Parse frames\n",
    "def parse_frames(frames):\n",
    "    pattern = r\"p(\\d{4})r(\\d{2})\"\n",
    "    matches = re.findall(pattern, frames)\n",
    "    color_mapping = {\"12\": \"green\", \"13\": \"blue\", \"14\": \"purple\", \"15\": \"yellow\"}\n",
    "    \n",
    "    holds = [{\"hold_id\": int(hold_id), \"hold_color\": color_mapping.get(color, \"unknown\")}\n",
    "             for hold_id, color in matches]\n",
    "    \n",
    "    return json.dumps(holds)\n",
    "    \n",
    "df[\"holds\"] = df[\"frames\"].apply(parse_frames)\n",
    "\n",
    "# CSV\n",
    "df.to_csv(\"climbing_problems_with_holds.csv\", index=False)\n",
    "\n",
    "print(df.head())"
   ]
  },
  {
   "cell_type": "code",
   "execution_count": null,
   "id": "d373e420-a0f2-4a89-9d91-bb46c14d3bb6",
   "metadata": {},
   "outputs": [],
   "source": []
  }
 ],
 "metadata": {
  "kernelspec": {
   "display_name": "Python 3 (ipykernel)",
   "language": "python",
   "name": "python3"
  },
  "language_info": {
   "codemirror_mode": {
    "name": "ipython",
    "version": 3
   },
   "file_extension": ".py",
   "mimetype": "text/x-python",
   "name": "python",
   "nbconvert_exporter": "python",
   "pygments_lexer": "ipython3",
   "version": "3.12.7"
  }
 },
 "nbformat": 4,
 "nbformat_minor": 5
}
